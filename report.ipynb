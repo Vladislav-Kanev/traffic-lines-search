{
 "cells": [
  {
   "cell_type": "code",
   "execution_count": 2,
   "metadata": {},
   "outputs": [
    {
     "data": {
      "text/plain": [
       "True"
      ]
     },
     "execution_count": 2,
     "metadata": {},
     "output_type": "execute_result"
    }
   ],
   "source": [
    "import cv2\n",
    "\n",
    "from src.lines import get_intersection\n",
    "from src.drawing import draw_lines\n",
    "from src.preprocessing import get_road_marking, prepocess_image\n",
    "\n",
    "image = cv2.imread('images/road1.png')\n",
    "\n",
    "prepocessed_image = prepocess_image(image)\n",
    "\n",
    "canny = cv2.Canny(prepocessed_image, 100, 200)\n",
    "\n",
    "road_markings = get_road_marking(canny)\n",
    "\n",
    "image_with_lines = draw_lines(image, road_markings)\n",
    "\n",
    "intersection_point = get_intersection(road_markings)\n",
    "\n",
    "image_with_point = cv2.circle(image_with_lines, intersection_point, 15, (0, 0, 255), -1)\n",
    "\n",
    "cv2.imwrite('result/result.jpg', image_with_point)"
   ]
  },
  {
   "cell_type": "code",
   "execution_count": null,
   "metadata": {},
   "outputs": [],
   "source": []
  }
 ],
 "metadata": {
  "kernelspec": {
   "display_name": "venv",
   "language": "python",
   "name": "python3"
  },
  "language_info": {
   "codemirror_mode": {
    "name": "ipython",
    "version": 3
   },
   "file_extension": ".py",
   "mimetype": "text/x-python",
   "name": "python",
   "nbconvert_exporter": "python",
   "pygments_lexer": "ipython3",
   "version": "3.10.12"
  }
 },
 "nbformat": 4,
 "nbformat_minor": 2
}
